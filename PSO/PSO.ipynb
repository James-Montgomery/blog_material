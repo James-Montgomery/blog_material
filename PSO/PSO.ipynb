{
 "cells": [
  {
   "cell_type": "markdown",
   "metadata": {},
   "source": [
    "# Particle Swarm Optimization\n",
    "\n",
    "As a machine learning engineer with an educational background in physics, I've always loved the intersection of physics and machine learning. Many of my collegues are physicists and many of the models and methods we use come from the field of physics. \n",
    "\n",
    "One neat method I've always liked is particle swarm optimization (PSO). It is conceptually related to the MCMC methods Ensemble MCMC and Hamiltonian Monte Carlo. In this post I will walk through how PSO works and code an example of PSO from scratch in python. Here we explore the classic PSO algorithm, but there is a bayesian version used in the field of bayesian optimization that I encourage you to look up if you enjoy this post. "
   ]
  },
  {
   "cell_type": "markdown",
   "metadata": {},
   "source": [
    "PSO was proposed in 1995 by Eberhart and Kennedy. It was originally intended for simulating social behavior using patterns inspired by the was birds flock and schools of fish swim. \n",
    "\n",
    "PSO is a metaheuristic technicque that makes few to no assumptions about the function being optimized. It is very useful in cases where the search space is high dimensional, non-convex, and/or non-continuous. One great aspect of PSO is that it does not require the function being optimized to be differentiable as does gradient descent and quasi-newton methods."
   ]
  },
  {
   "cell_type": "markdown",
   "metadata": {},
   "source": [
    "The high level idea behind PSO is that we release many different \"particles\" into the search space. These aprticles move in such a way that they tend to congregate around minima in the optimization topography. Heuristically, you can think of dumping marbles into a funnels such that they all end up falling into the center no matter where they started from. We start by giving our particles the propeties of position (along the optimization plane) and velosity:\n",
    "\n",
    "$$\n",
    "x^i_{k+1} = x^i_k + v^i_{k+1}\n",
    "$$\n",
    "\n",
    "$$\n",
    "v^i_{k+1} = w_k v^i_k + c_1 r_1 (p^i_k - x^i_k) + c_2 r_2 (p^g_k - x^i_k)\n",
    "$$\n",
    "\n",
    "Where $x$ represents the position on the optimization plane, $p$ represents the best historical position, $v$ represents velocity, the super script $i$ represents an individual particle, the subscript $k$ represents the time step, the super script $g$ represents a group term across particles, $w$ is an inertial weight constant, $c_1$ is a cognitive parameter, $c_2$ is a social parameter, and $r_1$ and $r_2$ are random numbers between 0 and 1.\n",
    "\n",
    "We label the term $c_2 r_2 (p^g_k - x^i_k)$ the \"social term\" and $c_1 r_1 (p^i_k - x^i_k)$ the \"cognitive term\".\n",
    "\n",
    "So what are these terms? Since each particle is \"learning\" about a different section of the optimization plane, we want the particles to share some information to alert each other when one has found a position that might be the global optima. This is what the social term does. On the other hand, each particle should have some ability to pursue promising elads on it's own; this is the cognitive term. These terms may agree or fight each other."
   ]
  },
  {
   "cell_type": "markdown",
   "metadata": {},
   "source": [
    "Our optimization algorithm follows a fairly simple method for updating the equations above. I will note, since it is a running joke with my friends, that engineers and mathmeticians may disagree with step 1-D of setting $k=1$ instead of $k=0$. To each their own!\n",
    "\n",
    "1. Initialize Values\n",
    "    1. Set constants ($k_max, w_k, c_1, c_2$)\n",
    "    2. Randomly assign each particle a position\n",
    "    3. Randomly assign each particle a velocity\n",
    "    4. Set time setp to $k=1$ (we will run until we hit $k_max$)\n",
    "2. Run Optimization\n",
    "    1. Evaluate cost function $f$ for each particle (denoted $f^i_k$ at position $x^i_k$)\n",
    "    2. If $f^i_k <= f^i_{best}$ then $f^i_best = f^i_k$ and $p^i_k = x^i_k$\n",
    "    3. If $f^i_k <= f^g_{best}$ then $f^g_best = f^i_k$ and $p^g_k = x^i_k$\n",
    "    4. Stop if any stopping conditions are met\n",
    "    5. Update particle velocities\n",
    "    6. Update particle positions\n",
    "    7. Increment $k += 1$\n",
    "    8. Go back to step 2-A"
   ]
  },
  {
   "cell_type": "markdown",
   "metadata": {},
   "source": [
    "From the update equations and optimization algorithm, we can see that each particle is influenced by three forces:\n",
    "* Individual particle velocity (inertia)\n",
    "* Distance from individual historical best position (cognitive force)\n",
    "* Distance from swarm historical best position (social force)\n",
    "\n",
    "We weight these forces using $w_k, c_1, c_2$ and then perturb the forces stochastically using $r_1$ and $r_2$. Changing the weighting parameters can make the optimization algorithm more or less greedy impacting run times/convergence times and the likelihood of ending up at the global vs. local minima. \n",
    "\n",
    "We can show how each of these forces imapcts an individual particle using the vector diagram below:\n",
    "\n",
    "![](pso-vector-1.png)"
   ]
  },
  {
   "cell_type": "markdown",
   "metadata": {},
   "source": [
    "Based on this diagram we can see that the particle has a lot of inertia and so will most likely explore the search space rapidly. You can see that in this case it ends up moving away from the swarm best position.\n",
    "\n",
    "Below we show an example of a low energy/inertia partical that is heavily influenced by the swarm.\n",
    "\n",
    "![](pso-vector-2.png)"
   ]
  },
  {
   "cell_type": "markdown",
   "metadata": {},
   "source": [
    "When we put everything together, the particles will behave somthing like what is show in the gif below.\n",
    "\n",
    "![](ParticleSwarmArrowsAnimation.gif)\n",
    "\n",
    "Okay, let's dive into the code!"
   ]
  },
  {
   "cell_type": "code",
   "execution_count": 1,
   "metadata": {},
   "outputs": [],
   "source": [
    "# imports needed for PSO class\n",
    "from __future__ import division\n",
    "import random\n",
    "import math\n",
    "import numpy as np"
   ]
  },
  {
   "cell_type": "code",
   "execution_count": 12,
   "metadata": {},
   "outputs": [],
   "source": [
    "class Particle:\n",
    "    \"\"\"Class for Individual Particle\"\"\"\n",
    "\n",
    "    def __init__(self, x_0, num_dimensions):\n",
    "        self.num_dimensions = num_dimensions\n",
    "        # particle position\n",
    "        self.position_i = np.asarray(x_0)\n",
    "        # particle velocity\n",
    "        self.velocity_i = np.random.uniform(-1, 1, self.num_dimensions)\n",
    "        # error individual\n",
    "        self.cost_i = -1\n",
    "        # best position individual\n",
    "        self.pos_best_i = []\n",
    "        # best error individual\n",
    "        self.cost_best_i = -1\n",
    "\n",
    "        #for i in range(0, num_dimensions):\n",
    "        #    self.velocity_i.append(random.uniform(-1, 1))\n",
    "        #    self.position_i.append(x_0[i])\n",
    "\n",
    "    # evaluate current loss/cost/fitness\n",
    "    def evaluate(self, cost_func):\n",
    "        self.cost_i = cost_func(self.position_i)\n",
    "\n",
    "        # check if current position is individual best position\n",
    "        if self.cost_i < self.cost_best_i or self.cost_best_i == -1:\n",
    "            self.pos_best_i = self.position_i\n",
    "            self.cost_best_i = self.cost_i\n",
    "\n",
    "    # update particle velocity\n",
    "    def update_velocity(self,pos_best_g):\n",
    "\n",
    "        # inertia weight, cognitive cosntant, social constant\n",
    "        w, c1, c2 = 0.5, 1, 2\n",
    "\n",
    "        for i in range(0, self.num_dimensions):\n",
    "            r1 = np.random.uniform(0, 1, 1)[0]\n",
    "            r2 = np.random.uniform(0, 1, 1)[0]\n",
    "\n",
    "            vel_cognitive = c1 * r1 * (self.pos_best_i[i] - self.position_i[i])\n",
    "            vel_social = c2 * r2 * (pos_best_g[i] - self.position_i[i])\n",
    "            self.velocity_i[i] = w * self.velocity_i[i] + vel_cognitive + vel_social\n",
    "\n",
    "    # update the particle position\n",
    "    def update_position(self, bounds):\n",
    "\n",
    "        for i in range(0, self.num_dimensions):\n",
    "\n",
    "            self.position_i[i] = self.position_i[i] + self.velocity_i[i]\n",
    "\n",
    "            # adjust maximum position\n",
    "            if self.position_i[i] > bounds[i][1]:\n",
    "                self.position_i[i] = bounds[i][1]\n",
    "\n",
    "            # adjust minimum position\n",
    "            if self.position_i[i] < bounds[i][0]:\n",
    "                self.position_i[i] = bounds[i][0]\n",
    "\n",
    "class PSO():\n",
    "    \"\"\"Particle Swarm Optimizer\"\"\"\n",
    "\n",
    "    def __init__(self, cost_func, x_0, bounds, num_particles, max_iter, rdm_init = True):\n",
    "\n",
    "        self.cost_func = cost_func\n",
    "        self.num_dimensions = len(x_0)\n",
    "        self.x_0 = x_0\n",
    "        self.bounds = bounds\n",
    "        self.num_particles = num_particles\n",
    "        self.max_iter = max_iter\n",
    "        self.rdm_init = rdm_init\n",
    "\n",
    "    def __call__(self):\n",
    "\n",
    "        # best error for group\n",
    "        err_best_g=-1\n",
    "        # best position for group\n",
    "        pos_best_g=[]\n",
    "\n",
    "        # establish the swarm\n",
    "        swarm=[]\n",
    "        for i in range(0, self.num_particles):\n",
    "            # if random initializer is True\n",
    "            # randomly initialize each particle\n",
    "            if not self.rdm_init:\n",
    "                swarm.append(Particle(self.x_0, self.num_dimensions))\n",
    "            else:\n",
    "                # TODO: change to sample in range of bounds\n",
    "                # instead of with standard deviation 1 \n",
    "                x_0 = np.random.multivariate_normal(self.x_0, np.eye(self.num_dimensions), 1)[0]\n",
    "                swarm.append(Particle(x_0, self.num_dimensions))\n",
    "\n",
    "        # begin optimization loop\n",
    "        i=0\n",
    "        while i < self.max_iter:\n",
    "            #print i,err_best_g\n",
    "            # cycle through particles in swarm and evaluate fitness\n",
    "            for j in range(0, self.num_particles):\n",
    "                swarm[j].evaluate(self.cost_func)\n",
    "\n",
    "                # determine if current particle is the best (globally)\n",
    "                if swarm[j].cost_i < err_best_g or err_best_g == -1:\n",
    "                    pos_best_g=list(swarm[j].position_i)\n",
    "                    err_best_g=float(swarm[j].cost_i)\n",
    "\n",
    "            # cycle through swarm and update velocities and position\n",
    "            for j in range(0, self.num_particles):\n",
    "                swarm[j].update_velocity(pos_best_g)\n",
    "                swarm[j].update_position(self.bounds)\n",
    "            i += 1\n",
    "\n",
    "        return {\"Optimal Parameters\": pos_best_g,\"Optimal Loss\": err_best_g}\n"
   ]
  },
  {
   "cell_type": "markdown",
   "metadata": {},
   "source": [
    "To test out our code we'll run the optimizer on a simple 2D function with a known global minima. "
   ]
  },
  {
   "cell_type": "code",
   "execution_count": 10,
   "metadata": {},
   "outputs": [],
   "source": [
    "# example cost function\n",
    "# known global minima at x = (3.0, 3.0)\n",
    "def cost_func(x):\n",
    "    return np.sum((np.asarray(x)-3.0)**2)"
   ]
  },
  {
   "cell_type": "code",
   "execution_count": 16,
   "metadata": {},
   "outputs": [
    {
     "data": {
      "text/plain": [
       "{'Optimal Parameters': [2.999983513358816, 2.999994903876817],\n",
       " 'Optimal Loss': 2.9777980902004224e-10}"
      ]
     },
     "execution_count": 16,
     "metadata": {},
     "output_type": "execute_result"
    }
   ],
   "source": [
    "# initial starting position\n",
    "initial = np.random.uniform(0,8,2)      \n",
    "# parameter/position bounds\n",
    "bounds = [(-10,10),(-10,10)]  \n",
    "# create optimizer object\n",
    "optimizer = PSO(cost_func, initial, bounds, num_particles=15, max_iter=30)\n",
    "# run optimizer\n",
    "optimizer()\n"
   ]
  },
  {
   "cell_type": "markdown",
   "metadata": {},
   "source": [
    "As expected, the optimizer quickly finds the global optima quite quickly! \n",
    "\n",
    "## Next Steps\n",
    "\n",
    "Now that we have a good understanding of the basic PSO algorithm, you should try messing with the code above to get a feel for how to use PSO in more practical settings. Try the exercises below:\n",
    "* describe a more complex cost function and see how well PSO works\n",
    "* keep a history of each particle's position and plot them\n",
    "* add regularization to the particale movement updates\n",
    "* try using bayesian updates\n",
    "\n",
    "And remember, while this method is informed by biology and physics, that doesn't mean we need to stick closely to biological or physical systems. For example, you could try annealing (increase and decrease over time) the inertial constant throughout the optimization process to reduce the chances of falling into local minima!"
   ]
  },
  {
   "cell_type": "code",
   "execution_count": null,
   "metadata": {},
   "outputs": [],
   "source": []
  }
 ],
 "metadata": {
  "kernelspec": {
   "display_name": "test_env",
   "language": "python",
   "name": "test_env"
  },
  "language_info": {
   "codemirror_mode": {
    "name": "ipython",
    "version": 3
   },
   "file_extension": ".py",
   "mimetype": "text/x-python",
   "name": "python",
   "nbconvert_exporter": "python",
   "pygments_lexer": "ipython3",
   "version": "3.6.0"
  }
 },
 "nbformat": 4,
 "nbformat_minor": 2
}
