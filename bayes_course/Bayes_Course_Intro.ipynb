{
 "cells": [
  {
   "cell_type": "code",
   "execution_count": 1,
   "metadata": {},
   "outputs": [
    {
     "data": {
      "text/markdown": [
       "# Bayes_By_Example\n",
       "\n",
       "What is this course about? I recently started a reinforcement learning project where the reward function of the RL learner was a bayesian model. Of course...I knew almost nothing about bayesian statistics before building out this RL learner! So, I spent a lot of time reading and trying to implement various online tutorials and research papers. This course is a collection of (mostly) other people's tutorials, but refactored to work together and provide a more holistic view of bayesian statistics than any one of these myriad of tutorials did originally. I've rewritten extensive portions of many of these tutorials and I apologize for any errors I may have accidentally introduced. I try to provide links or references to any and all resources I borrowed from to create this course in the sections where I reference said material.\n",
       "\n",
       "All of the content is stored in Jupyter Notebooks. I recommend downloading the content locally. This will let you play with the code and actually run the examples for yourself. For best practices, I also recommend using a conda virtual environment to manage dependancies (take a look at the setup.sh file if you need help setting up your env and/or check out the [documentation](https://conda.io/docs/user-guide/tasks/manage-environments.html)).   \n",
       "\n",
       "**Table of Contents:**\n",
       "\n",
       "Part One:\n",
       "\n",
       "* Who is this lecture for?\n",
       "* What is statistics?\n",
       "* The Frequentist Philosophy\n",
       "* The Bayesian Philosophy\n",
       "* Author's Note: Taking Sides\n",
       "\n",
       "Part Two:\n",
       "\n",
       "* Bayes: Conjugacy\n",
       "* Bayes: Metropolis Hastings Sampling\n",
       "* Bayes: My Friends Edward, Stan, and Pymc3\n",
       "\n",
       "Part Three:\n",
       "\n",
       "* Bayes: Hyper Priors\n",
       "* Bayesians vs Frequentists (Student's T Test)\n",
       "* <s>Bayesians vs Frequentists (A/B Testing)</s>\n",
       "* <s>Bayes: Gibbs Sampling</s>\n",
       "\n",
       "Part Four:\n",
       "\n",
       "* Bayes: Linear Regression Part One (simple)\n",
       "* Bayes: Linear Regression Part Two (regularization)\n",
       "* Bayes: Linear Regression Part Three (robust)\n",
       "\n",
       "Part Five:\n",
       "\n",
       "* Bayes: Linear Regression Four (multi-level)\n",
       "* Bayes: Linear Regression Four and Three Quarters (escaping the funnel)\n",
       "* Samplers: Beyond Metropolis Hastings\n",
       "\n",
       "\n",
       "Part Six:\n",
       "\n",
       "* Bayes: Linear Regression with a Time Component (includes neural net with time component)\n",
       "\n",
       "Part Seven:\n",
       "\n",
       "* Bayes: Variational Inference\n",
       "\n",
       "Part Eight:\n",
       "\n",
       "* Bayes: Training Neural Nets Part One\n",
       "* Bayes: Training Neural Nets Part Two\n",
       "* Bayes: Training Neural Nets Part Three\n",
       "* Bayes: Reguarization\n",
       "* Bayes: Time Series Neural Nets\n",
       "\n",
       "Part Nine:\n",
       "\n",
       "* Mixture Models Part One\n",
       "* Mixture Models Part Two\n",
       "* Mixture Models Part Three\n",
       "* Mixture Models Part Four\n",
       "\n",
       "Part Ten:\n",
       "\n",
       "* Gaussian Processes\n",
       "* Parting Words\n",
       "\n",
       "<s>Part Eleven:\n",
       "\n",
       "* <s>Naive Bayes\n"
      ],
      "text/plain": [
       "<IPython.core.display.Markdown object>"
      ]
     },
     "metadata": {},
     "output_type": "display_data"
    }
   ],
   "source": [
    "from IPython.display import display, Markdown\n",
    "\n",
    "with open('readme.md', 'r') as fh:\n",
    "    content = fh.read()\n",
    "\n",
    "display(Markdown(content))"
   ]
  },
  {
   "cell_type": "code",
   "execution_count": null,
   "metadata": {},
   "outputs": [],
   "source": []
  }
 ],
 "metadata": {
  "kernelspec": {
   "display_name": "test_env",
   "language": "python",
   "name": "test_env"
  },
  "language_info": {
   "codemirror_mode": {
    "name": "ipython",
    "version": 3
   },
   "file_extension": ".py",
   "mimetype": "text/x-python",
   "name": "python",
   "nbconvert_exporter": "python",
   "pygments_lexer": "ipython3",
   "version": "3.6.7"
  }
 },
 "nbformat": 4,
 "nbformat_minor": 2
}
