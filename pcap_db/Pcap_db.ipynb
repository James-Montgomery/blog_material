{
 "cells": [
  {
   "cell_type": "markdown",
   "metadata": {},
   "source": [
    "# Pcap Database\n",
    "\n",
    "Recently I've been playing around with what I call \"hobbyist cyber security\". Other than the usual precautions one might take against malware/network intrusion such as antivirus software, password managers, always using the latest firmware on routers and IOT...I've also been training models to detect beacons (periodic communications between malware and command and control servers) and DGA (domain generating algorithms).\n",
    "\n",
    "Unfortunately, datasets for building these kinds of models is scarce. There are a few interesting sets like the [Darpa Intrusion dataset](https://www.ll.mit.edu/r-d/datasets/1999-darpa-intrusion-detection-evaluation-dataset), but they are few and far between. THis data is rare for good reason! Getting access to someone's network traffic gives you a lot of information about how they work and what they do. If the data isn't proprly cleaned you can leak sensitive data or private communications.\n",
    "\n",
    "To fight this I've started collecting my own data to work on. How can I do this? Well, if I were to take the most naive approach, I could infect different computers with a variety of malware and collect the internet traffic. This would give me labeled data to do amchine learning on! \n",
    "\n",
    "I'm actually doing something more sophisticated than that, but it's not worth going into here. In this post I'm going to walk through one simple way to store the network traffic on a single device for later inspection. \n",
    "\n",
    "We'll move through this process setp by step:\n",
    "* What is a pcap file?\n",
    "* Using Wireshark/tshark\n",
    "* Streaming data in python\n",
    "* A simple python database\n",
    "* Putting it all together"
   ]
  },
  {
   "cell_type": "markdown",
   "metadata": {},
   "source": [
    "### What is a pcap file?\n",
    "\n",
    "Network intrusion detection and [Infsec](https://en.wikipedia.org/wiki/Information_security) usually start and end with sniffing network traffic for unusual stuff. This is often done using heuristic/rules based methods and trained human agents. The goal of Infosec when looking through network traffic is to find 1) communications of malware with Command and control servers 2) malware jumping between devices on the network 3) someone else spying on network traffic 4) unsecured communications. \n",
    "\n",
    "At a basic level, this can be done by looking at [packet capture (pcap)](https://en.wikipedia.org/wiki/Pcap) files. These are file records of network traffic. All of the little handshakes and file exchanges that happen behind the scenes when we use computers on a network are recorded here. To be clear, pcap files don't capture what is happening on a particular device, only the communications to and from that device. \n",
    "\n",
    "To get a picture of the entire network we would want to look at pcap files collected from the network router(s). For this tutorial we will just look at the traffic to and from the device we are working on."
   ]
  },
  {
   "cell_type": "markdown",
   "metadata": {},
   "source": [
    "### Using Wireshark/tshark\n",
    "\n",
    "Actually capturing the traffic is easy. We'll use a standard tool in the industry: [Wireshark](https://www.wireshark.org/). Wireshark has a nice guided user interface (GUI), but we will only interact with wireshark using the terminal for now. \n",
    "\n",
    "You can download Wireshark from their website (linked above) or using a package manager like homebrew: `brew cask install wireshark`."
   ]
  },
  {
   "cell_type": "markdown",
   "metadata": {},
   "source": [
    "Tshark is the terminal \"version\" of wireshark. It should ahve been installed along with wireshark. Let's first go to the terminal/shell/command line.\n",
    "\n",
    "Run `tshark -D` to see the available network interfaces to monitor. You should see an option for monitoring Wifi. A screenshot of my terminal is shown below:\n",
    "\n",
    "![](1.png)"
   ]
  },
  {
   "cell_type": "markdown",
   "metadata": {},
   "source": [
    "Looks like `en0` is the designation for the wifi interface. This seems like a useful interface to monitor for suspicious traffic! Let's see what's going on with my wifi traffic. \n",
    "\n",
    "Run `tshark -i en0` in the terminal. Wow! A lot of text probably started streaming down your screen. Press `cntrl c` to break the stream. That stream probably looked soemthing like this screen capture below:\n",
    "\n",
    "![](2.png)\n",
    "\n",
    "Each row in this stream is a piece of communication (either to or from our device). We haven't filtered this information down at allso it's jsut a mess. \n",
    "\n",
    "You can read [tshark's manual](https://www.wireshark.org/docs/man-pages/tshark.html) to see all of the options tshark provides. For now I'll give a quick breakdown of useful commands. I'd also consider reading through these other posts: [A quick tutorial on Tshark](http://yenolam.com/writings/tshark.pdf), [Network Sniffing with Tshark](https://linoxide.com/linux-how-to/network-sniffing-tshark/), [Protocol Numbers](https://www.iana.org/assignments/protocol-numbers/protocol-numbers.xhtml), [Wireshark display filters](https://wiki.wireshark.org/DisplayFilters)."
   ]
  },
  {
   "cell_type": "markdown",
   "metadata": {},
   "source": [
    "We'll start very simple. Let's write out all of our data to a pcap file.\n",
    "\n",
    "~~~Bash\n",
    "tshark -i en0 -w network_traffic.pcap\n",
    "~~~\n",
    "\n",
    "Now you probably aren't used to dealing with pcap files! Most datascientists deal with json, csv, and parquet file formats. Let's convert the file we saved to csv. When we do that we'll also filter down the content to a few fields we really care about.\n",
    "\n",
    "~~~Bash\n",
    "tshark -r network_traffic.pcap \\\n",
    "    -T fields -e _ws.col.Protocol -e frame.time_epoch -e ip.src -e ip.dst \\\n",
    "    -e http.request.full_uri -e dns.qry.name -e dns.resp.name \\\n",
    "    -E header=y -E separator=, -E quote=d -E occurrence=f > network_traffic.csv\n",
    "~~~\n",
    "\n",
    "Let's break down this long command. \n",
    "\n",
    "The first part `-r network_traffic.pcap` is really simple; we're jsut reading from the pcap file we saved a moment ago. `-T fields` is letting tshark know that we're going to filter down to a select number of fields to write to our file. Every argument beginning with `-e` is a field that we will include in the output file. Every argument beginning with `-E` tells tshark how to format that ourput file. For example, `-E separator=,` indicates that our output file should use commas as it's delimiter between fields.\n",
    "\n",
    "We can filter down by protocol or even to a specific ip as well using the argument `-Y`. For example, we could filter down to only domain name service protocols using the argument `-Y dns`. We could also set a time to let tshark know to stop capturing data after a set amount of time using the argument `-a duration:10` where 10 is the number of seconds to capture packets for.\n",
    "\n",
    "Now you have a csv that you can use to train a model! Are we done? Nope. I think we can do a little better than jsut a csv. "
   ]
  },
  {
   "cell_type": "markdown",
   "metadata": {},
   "source": [
    "### Streaming data in python\n",
    "\n",
    "Ok, up until now we simply captured traffic over a certain period of time. What happens is we want packet capture to be always on? We could always set a cron job to launch tshark every 10 minutes with a 10 minute run timer. We would then get a new file every 10 minutes.....that sounds ugly. \n",
    "\n",
    "Why not set up a streaming service to log network traffic as it coems in? Yes, let's do that. \n",
    "\n",
    "We'll start with an understanding of pipes. A pipe is a redirection to send the output of one command as the input to another command. Let's see an example!\n",
    "\n",
    "Let's say we want to know the version numpy that we are using in the current python environment. We could run the command `pip freeze` to list all packages managed by pip in the current environment and read through it until we see numpy. That seems tedious. Of course, if we already had that list we could leverage regular expressions, using `grep`, to quickly search for the numpy entry! Let's pipe the output of `pip freeze` to `grep numpy` to find the version of numpy we are using.\n",
    "\n",
    "We ca run terminal commands in jupyter notebooks using the maginc `!`."
   ]
  },
  {
   "cell_type": "code",
   "execution_count": 1,
   "metadata": {},
   "outputs": [
    {
     "name": "stdout",
     "output_type": "stream",
     "text": [
      "numpy==1.15.4\r\n"
     ]
    }
   ],
   "source": [
    "! pip freeze | grep numpy"
   ]
  },
  {
   "cell_type": "markdown",
   "metadata": {},
   "source": [
    "See how easy life is with pipes? Let's try piping the output of tshark to a grep and see what happens. We'll stream the protocol and source ip of 30 line of network traffic communication and then use grep to filter out only traffic using the TCP protocol."
   ]
  },
  {
   "cell_type": "code",
   "execution_count": 2,
   "metadata": {},
   "outputs": [
    {
     "name": "stdout",
     "output_type": "stream",
     "text": [
      "Capturing on 'Wi-Fi'\n",
      "20 \n",
      "6 packets dropped\n",
      "TCP\t192.168.1.3\n",
      "TCP\t192.168.1.3\n",
      "TCP\t192.168.1.3\n",
      "TCP\t52.200.116.91\n",
      "TCP\t192.168.1.3\n",
      "TCP\t192.168.1.3\n",
      "TCP\t192.168.1.3\n",
      "TCP\t52.200.116.91\n",
      "TCP\t52.200.116.91\n",
      "TCP\t192.168.1.3\n",
      "TCP\t52.200.116.91\n",
      "TCP\t192.168.1.3\n",
      "TCP\t192.168.1.3\n",
      "TCP\t52.200.116.91\n",
      "TCP\t52.200.116.91\n"
     ]
    }
   ],
   "source": [
    "! tshark -i en0 -c 20 -T fields -e _ws.col.Protocol -e ip.src | grep TCP"
   ]
  },
  {
   "cell_type": "markdown",
   "metadata": {},
   "source": [
    "That took awhile! You probably had to wait to see the output of the grep command (I waited a couple seconds for the output to display). Why? \n",
    "\n",
    "It turns out that the pipe waits for the first command to finish before sending it's output to the seconda command. We don't want to wait for this 'buffering' behavior since we are interested in setting up a streaming servie using pipes. \n",
    "\n",
    "There are a few ways around this, but many are dependant on the operating system you are working on. Since I need a solution that works on a variety of systems like ubuntu, red hat, and MacOS, I like to use `expect` (should also work on windows).\n",
    "\n",
    "Install expect on Mac using homebrew: `brew install expect`. Mac has some issues with the install path for expect, so export the correct path to the executable: `export TCLLIBPATH=\"/usr/local/lib\"`. \n",
    "\n",
    "Let's try rerunning the pipe from before, but this time we'll add the expect command `unbuffer`."
   ]
  },
  {
   "cell_type": "code",
   "execution_count": 3,
   "metadata": {},
   "outputs": [
    {
     "name": "stdout",
     "output_type": "stream",
     "text": [
      "TCP\t192.168.1.3\n",
      "TCP\t34.232.28.44\n",
      "TCP\t192.168.1.3\n",
      "TCP\t34.232.28.44\n",
      "TCP\t192.168.1.3\n",
      "TCP\t45.57.62.158\n",
      "TCP\t192.168.1.3\n",
      "TCP\t45.57.62.158\n",
      "TCP\t192.168.1.3\n",
      "TCP\t192.168.1.3\n"
     ]
    }
   ],
   "source": [
    "! unbuffer tshark -i en0 -c 20 -T fields -e _ws.col.Protocol -e ip.src | grep TCP"
   ]
  },
  {
   "cell_type": "markdown",
   "metadata": {},
   "source": [
    "Awesome! Now we're streaming using pipes. Before we move on to the next section, let's connect our stream to a python script. Create a file named `stream.py` with the following code:\n",
    "\n",
    "~~~Python\n",
    "import sys\n",
    "\n",
    "for something in sys.stdin:\n",
    "    print( something )\n",
    "~~~\n",
    "\n",
    "This will take in stream of data from standard input and print it as it comes in. Python makes this really easy to do and the symtax is almsot identical to how files are read in and handled.\n",
    "\n",
    "Let's try out our script. "
   ]
  },
  {
   "cell_type": "code",
   "execution_count": 4,
   "metadata": {},
   "outputs": [
    {
     "name": "stdout",
     "output_type": "stream",
     "text": [
      "Capturing on 'Wi-Fi'\n",
      "\n",
      "UDP\t192.168.1.3\n",
      "\n",
      "ARP\t\n",
      "\n",
      "UDP\t192.168.1.3\n",
      "\n",
      "ARP\t\n",
      "\n",
      "TCP\t192.168.1.3\n",
      "\n",
      "TCP\t159.69.211.233\n",
      "\n",
      "TLSv1.2\t192.168.1.3\n",
      "\n",
      "TLSv1.2\t45.57.62.158\n",
      "\n",
      "TCP\t192.168.1.3\n",
      "\n",
      "TCP\t45.57.62.158\n",
      "\n",
      "TCP\t45.57.62.158\n",
      "\n",
      "TCP\t192.168.1.3\n",
      "\n",
      "TCP\t45.57.62.158\n",
      "\n",
      "TCP\t45.57.62.158\n",
      "\n",
      "TCP\t45.57.62.158\n",
      "\n",
      "TCP\t192.168.1.3\n",
      "\n",
      "TCP\t192.168.1.3\n",
      "\n",
      "TCP\t45.57.62.158\n",
      "\n",
      "TCP\t45.57.62.158\n",
      "\n",
      "TCP\t45.57.62.158\n",
      "\n",
      "84 packets dropped\n",
      "\n",
      "20 packets captured\n",
      "\n"
     ]
    }
   ],
   "source": [
    "! unbuffer tshark -i en0 -c 20 -T fields -e _ws.col.Protocol -e ip.src | python stream.py"
   ]
  },
  {
   "cell_type": "markdown",
   "metadata": {},
   "source": [
    "And that's it! We're now streaming data."
   ]
  },
  {
   "cell_type": "markdown",
   "metadata": {},
   "source": [
    "### A simple python database\n",
    "\n",
    "Ok, we're finally approaching third base. The last piece to our puzzle is where we are going to store our stream of logs for our entwork traffic. For a large company this is a HUGE engineering task. I have friends that build out and maintain these large scale cyber security databases and they are a nightmare. \n",
    "\n",
    "Lucky for us we only one a toy database to store the a tiny amount of data for us to do analysis and build models on. For this use case we'll use sqlite."
   ]
  },
  {
   "cell_type": "markdown",
   "metadata": {},
   "source": [
    "We'll create a python module to handle all of the database management for us. Copy the code below and put it into a file called `database.py`.\n",
    "\n",
    "~~~python\n",
    "import sqlite3\n",
    "from sqlite3 import Error\n",
    "\n",
    "def create_connection(db_file):\n",
    "    \"\"\" create a database connection to a SQLite database \"\"\"\n",
    "    conn = sqlite3.connect(db_file)\n",
    "    # conn = sqlite3.connect(':memory:')\n",
    "    print(sqlite3.version)\n",
    "    return conn\n",
    "\n",
    "def create_table(conn, create_table_sql):\n",
    "    \"\"\" create a table from the create_table_sql statement\n",
    "    :param conn: Connection object\n",
    "    :param create_table_sql: a CREATE TABLE statement\n",
    "    :return:\n",
    "    \"\"\"\n",
    "    try:\n",
    "        c = conn.cursor()\n",
    "        c.execute(create_table_sql)\n",
    "    except Error as e:\n",
    "        print(e)\n",
    "\n",
    "def create_entry(conn, table_name, fields, entry):\n",
    "    \"\"\"\n",
    "    Create a new project into the projects table\n",
    "    :param conn:\n",
    "    :param project:\n",
    "    :return: project id\n",
    "    \"\"\"\n",
    "    column_names = \", \".join(fields)\n",
    "    values = \", \".join([\"?\"]*len(fields))\n",
    "    sql = \"\"\" INSERT INTO {}({})\n",
    "              VALUES({}) \"\"\".format(table_name, column_names, values)\n",
    "    cur = conn.cursor()\n",
    "    cur.execute(sql, entry)\n",
    "    return cur.lastrowid\n",
    "\n",
    "def select_all(conn, table_name):\n",
    "    \"\"\"\n",
    "    Query all rows in the tasks table\n",
    "    :param conn: the Connection object\n",
    "    :return:\n",
    "    \"\"\"\n",
    "    cur = conn.cursor()\n",
    "    cur.execute(\"SELECT * FROM {}\".format(table_name))\n",
    "\n",
    "    rows = cur.fetchall()\n",
    "\n",
    "    for row in rows:\n",
    "        print(row)\n",
    "\n",
    "~~~"
   ]
  },
  {
   "cell_type": "markdown",
   "metadata": {},
   "source": [
    "Let's walk through this code and understand what it's doing. I'm not going to spend time explaining the [sql](https://en.wikipedia.org/wiki/SQL) syntax. If you are unfamilair with sql queries of databases I would recommend looking up a short tutorial. SQL is very simple and easy to pick up!\n",
    "\n",
    "First we have a function to connect to our database. This function takes in a path to the database file and sets up a connection to it. This connection is our way to query the database and/or add to the database. IF no file exists in the path then a new database file is created.\n",
    "\n",
    "~~~python\n",
    "def create_connection(db_file):\n",
    "    \"\"\" create a database connection to a SQLite database \"\"\"\n",
    "    conn = sqlite3.connect(db_file)\n",
    "    # conn = sqlite3.connect(':memory:')\n",
    "    print(sqlite3.version)\n",
    "    return conn\n",
    "~~~"
   ]
  },
  {
   "cell_type": "markdown",
   "metadata": {},
   "source": [
    "Next we have a function to add tables to the database. We will only need one table for our use case. However, if we were creating a database for a small web app we might have multiple tables to 1) manage user credentials 2) store cookies/sessions 3) storing data that users upload. \n",
    "\n",
    "~~~Python\n",
    "def create_table(conn, create_table_sql):\n",
    "    \"\"\" create a table from the create_table_sql statement\n",
    "    :param conn: Connection object\n",
    "    :param create_table_sql: a CREATE TABLE statement\n",
    "    :return:\n",
    "    \"\"\"\n",
    "    try:\n",
    "        c = conn.cursor()\n",
    "        c.execute(create_table_sql)\n",
    "    except Error as e:\n",
    "        print(e)\n",
    "~~~"
   ]
  },
  {
   "cell_type": "markdown",
   "metadata": {},
   "source": [
    "Now for the good stuff. Here we add entries to the table we created.\n",
    "\n",
    "~~~Python\n",
    "def create_entry(conn, table_name, fields, entry):\n",
    "    \"\"\"\n",
    "    Create a new project into the projects table\n",
    "    :param conn:\n",
    "    :param project:\n",
    "    :return: project id\n",
    "    \"\"\"\n",
    "    column_names = \", \".join(fields)\n",
    "    values = \", \".join([\"?\"]*len(fields))\n",
    "    sql = \"\"\" INSERT INTO {}({})\n",
    "              VALUES({}) \"\"\".format(table_name, column_names, values)\n",
    "    cur = conn.cursor()\n",
    "    cur.execute(sql, entry)\n",
    "    return cur.lastrowid\n",
    "~~~"
   ]
  },
  {
   "cell_type": "markdown",
   "metadata": {},
   "source": [
    "Finally, we can pour out all of the entries in our database to look at them. Your can modify the sql query here to select only the columns you care about. For example, if you find that a particular IP address has been submitting rejected password attempts to your computers over ssh (a warning sign that someone os trying to brute force their way onto your computer), you can query your database to see if that IP address has had an history communicating with your computer (hackers often do reconnaissance like port sniffing before an attack).\n",
    "\n",
    "~~~Python\n",
    "def select_all(conn, table_name):\n",
    "    \"\"\"\n",
    "    Query all rows in the tasks table\n",
    "    :param conn: the Connection object\n",
    "    :return:\n",
    "    \"\"\"\n",
    "    cur = conn.cursor()\n",
    "    cur.execute(\"SELECT * FROM {}\".format(table_name))\n",
    "\n",
    "    rows = cur.fetchall()\n",
    "\n",
    "    for row in rows:\n",
    "        print(row)\n",
    "~~~"
   ]
  },
  {
   "cell_type": "markdown",
   "metadata": {},
   "source": [
    "### Putting it all together"
   ]
  },
  {
   "cell_type": "markdown",
   "metadata": {},
   "source": [
    "Ok, let's create our final master script to start logging network traffic. Copy the following code into a script called `network_capture.py`.\n",
    "\n",
    "~~~Python\n",
    "import sys\n",
    "import database\n",
    "\n",
    "conn = database.create_connection(\"./network_data.db\")\n",
    "\n",
    "table_name = \"pcap_data\"\n",
    "\n",
    "sql_str = \"\"\"\n",
    "CREATE TABLE IF NOT EXISTS {} (\n",
    "    id integer PRIMARY KEY,\n",
    "    protocol text NOT NULL,\n",
    "    epoch_time text NOT NULL\n",
    ");\n",
    "\"\"\".format(table_name)\n",
    "\n",
    "database.create_table(conn, sql_str)\n",
    "\n",
    "for row in sys.stdin:\n",
    "\n",
    "    if row != \"Capturing on 'Wi-Fi'\\n\" and \"packets\" not in row:\n",
    "        entry = row.replace(\"\\n\",\"\").split(\",\")\n",
    "        fields = ['protocol', 'epoch_time']\n",
    "        entry_id = database.create_entry(conn, table_name, fields, entry)\n",
    "\n",
    "database.select_all(conn, table_name)\n",
    "~~~\n",
    "\n",
    "This is a pretty simple piece of code. We create a database file/establish a connection to an existing database file. We then create a table in that database. We write each line that tshark ends us to the database. If that stream ends (meaning an end of file is passed through the pipe), we print out the entire contents of our database.\n",
    "\n",
    "Below we run that command. We tell tshark to stop after capturing 20 packets (otherwise it will go on forever and no EOF will be passed through the pipe)."
   ]
  },
  {
   "cell_type": "code",
   "execution_count": 5,
   "metadata": {},
   "outputs": [
    {
     "name": "stdout",
     "output_type": "stream",
     "text": [
      "2.6.0\n",
      "(1, 'ARP', '1549157912.653421000')\n",
      "(2, 'TCP', '1549157913.300935000')\n",
      "(3, 'TCP', '1549157913.424068000')\n",
      "(4, 'TLSv1.2', '1549157913.818130000')\n",
      "(5, 'TCP', '1549157913.818228000')\n",
      "(6, 'TLSv1.2', '1549157913.818384000')\n",
      "(7, 'TCP', '1549157913.836271000')\n",
      "(8, 'TLSv1.2', '1549157915.370844000')\n",
      "(9, 'TLSv1.2', '1549157915.390536000')\n",
      "(10, 'TCP', '1549157915.390612000')\n",
      "(11, 'TCP', '1549157915.392205000')\n",
      "(12, 'TCP', '1549157915.395092000')\n",
      "(13, 'TCP', '1549157915.395126000')\n",
      "(14, 'TCP', '1549157915.395159000')\n",
      "(15, 'TCP', '1549157915.395200000')\n",
      "(16, 'TCP', '1549157915.395752000')\n",
      "(17, 'TCP', '1549157915.401887000')\n",
      "(18, 'TCP', '1549157915.401892000')\n",
      "(19, 'TCP', '1549157915.401893000')\n",
      "(20, 'TCP', '1549157915.401894000')\n"
     ]
    }
   ],
   "source": [
    "! unbuffer tshark -i en0 -c 20 -T fields -e _ws.col.Protocol -e frame.time_epoch -E separator=, | python network_capture.py"
   ]
  },
  {
   "cell_type": "markdown",
   "metadata": {},
   "source": [
    "If you want to see the data as it streams in, simply add a print statment below `for row in sys.stdin:` to display the row. "
   ]
  },
  {
   "cell_type": "markdown",
   "metadata": {},
   "source": [
    "### Parting Words\n",
    "\n",
    "We've gone over a super simple version of how you can stream network traffic logs into a database for analytics and model building. THe code was bare bones and leaves room for a ton of improvement. For example, we might want to stream the data to a database in the cloud like dynamoDB (cheap and easy to use makes dynamoDB great for pet projects). We might also want network traffic from the entire network which would mean fowarding logs from your router to a device running this capture script. \n",
    "\n",
    "I'll leave these possible improvements to you! I hope you enjoyed this post :)"
   ]
  },
  {
   "cell_type": "code",
   "execution_count": null,
   "metadata": {},
   "outputs": [],
   "source": []
  }
 ],
 "metadata": {
  "kernelspec": {
   "display_name": "test_env",
   "language": "python",
   "name": "test_env"
  },
  "language_info": {
   "codemirror_mode": {
    "name": "ipython",
    "version": 3
   },
   "file_extension": ".py",
   "mimetype": "text/x-python",
   "name": "python",
   "nbconvert_exporter": "python",
   "pygments_lexer": "ipython3",
   "version": "3.6.0"
  }
 },
 "nbformat": 4,
 "nbformat_minor": 2
}
