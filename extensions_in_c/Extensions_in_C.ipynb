{
 "cells": [
  {
   "cell_type": "markdown",
   "metadata": {},
   "source": [
    "# Extensions in C\n",
    "\n",
    "Recently I've been working on a variety of python projects that need to run quickly. These projects need to be in python because my coworkers and the end users are all familiar with python (sorry, can't  use Julia)....but python code isn't exactly the fastest in the land! \n",
    "\n",
    "There are many ways to speed up python code. I usually start by looking at the math behind the model and trying to find nice approxiamtions or short cuts to reduce run time. For example, solving systems of equations rather than computing matix inversions for models like Gaussian processes and Ordinary Least Squares. \n",
    "\n",
    "Next, I try to make sure that my code is as efficient as possible. For example, it is often faster to instantiate an array and write results of a function to the indicies of the array than to append to a list object. However, if everything is vectorized and running as quickly as possible I'm usually left with only two options (which aren't mutually exclusive). \n",
    "\n",
    "Option One: multiprocessing! If I can distribute the computational load across workers, then I can potentially speed up the run time quite considerably. In a previous blog post I discussed how to do multiprocessing in python.\n",
    "\n",
    "Option Two: use C extensions (or Java or C++ extensions)! The great thing about python is that, in many cases, you can use python as a nice wrapper around other languages. That way I can have C code that runs as an extension of python. My end users still get to interact with the code in python, but I get many of the advantages of C when designing the program. \n",
    "\n",
    "In this post we will discuss the **BASICS** of creating C extensions in python. I will note, I am not an expert in C. C is a triacky language and if used improperly can result in big problems. For example, C is a low enough level language that you get nuanced control of the memory allocated to your program. This can let malicious suers take anvantage of your code to do bad things if you don't secure your code/server/application properly. So C is great and all but be careful.\n",
    "\n",
    "If you get bored of wading through C code...you can skip to the very last section for a super easy method of compiling python code down to C. However, the easy method is by far the least flexible! "
   ]
  },
  {
   "cell_type": "markdown",
   "metadata": {},
   "source": [
    "### Hello World Extension in C\n",
    "\n",
    "We'll start with the msot simple code I can think of: Hello World. I hate it when tutorials START with complex examples! It's exponentially harder to learn two things simulatenously than one thing at a time. We'll get to a more compelx example in a bit, so just bear with me. A big thank's to Adam Lamers whose 2015 blog inpired this post.\n",
    "\n",
    "**Author's Note:** Why is it bear with me and not bare with me? Are bears especially patient creatures? I will need to look this up immediately after writing this post. \n",
    "\n",
    "Let's start with our C code. I'll show the entire script and then break it down line by line. If you want to follow along with this blog post, save this code in a file named `hello_module.c`."
   ]
  },
  {
   "cell_type": "markdown",
   "metadata": {},
   "source": [
    "~~~C\n",
    "#include <Python.h>\n",
    "#include <stdio.h>\n",
    "\n",
    "static PyObject* hello_module_print_hello_world(PyObject *self, PyObject *args)\n",
    "{\n",
    "    printf(\"Hello World\\n\");\n",
    "    Py_RETURN_NONE;\n",
    "}\n",
    "\n",
    "\n",
    "static PyMethodDef hello_module_methods[] = {\n",
    "    {\n",
    "        \"print_hello_world\",\n",
    "        hello_module_print_hello_world,\n",
    "        METH_NOARGS,\n",
    "        \"Print 'hello world' from a method defined in a C extension.\"\n",
    "    },\n",
    "    {NULL, NULL, 0, NULL}\n",
    "};\n",
    "\n",
    "static struct PyModuleDef hello_module_definition = {\n",
    "    PyModuleDef_HEAD_INIT,\n",
    "    \"hello_module\",\n",
    "    \"A Python module that prints 'hello world' from C code.\",\n",
    "    -1,\n",
    "    hello_module_methods\n",
    "};\n",
    "\n",
    "PyMODINIT_FUNC PyInit_hello_module(void)\n",
    "{\n",
    "    Py_Initialize();\n",
    "\n",
    "    return PyModule_Create(&hello_module_definition);\n",
    "}\n",
    "~~~"
   ]
  },
  {
   "cell_type": "markdown",
   "metadata": {},
   "source": [
    "Ok, let's actually walk through this code. Luckily it's pretty simple, even if you aren't very well acquainted with C. \n",
    "\n",
    "We'll start with the hearers. Header files (with extension `.h`) contain fucntion declarations and macro definitions that you want to share between different scripts. here we include two different header files. The first is provided by python to allow us to read in python datatypes and then output python datatypes. The second header contains a bunch of useful functions like `printf()` for us to use in our C code.\n",
    "\n",
    "~~~C\n",
    "#include <Python.h>\n",
    "#include <stdio.h>\n",
    "~~~\n",
    "Nnext we have the actual module method definition. This is the code that will be called by our C extension. The code is reasonably self explanatory. Of note, you'll see that I'm returning `Py_RETURN_NONE`. Python fucntions by default return python None. We need to have our C extension do the same thing. The naming convention for the method might look odd, but it is a convetion for C extensions in pyhon. THe name is the Module_Function name. THe module is `hello_module` and the fucntion is `print_hello_world`.\n",
    "\n",
    "~~~C\n",
    "static PyObject* hello_module_print_hello_world(PyObject *self, PyObject *args)\n",
    "{\n",
    "    printf(\"Hello World\\n\");\n",
    "    Py_RETURN_NONE;\n",
    "}\n",
    "~~~\n",
    "\n",
    "We now move on to the method definition object for the extension. This will take three arguments:\n",
    "**ml_name:** The method name <br>\n",
    "**ml_meth:** Fucntion pointer to method implementation <br>\n",
    "**ml_flag:** A special flag that indicates special features of the method. For example, accepting arguments, accepting keyword arguments, being a class method, or being a static method of a class. <br>\n",
    "**ml_doc:** The method's docstring. \n",
    "\n",
    "If we had multiple fucntions in our method we would list them all out in this PyMethodDef object."
   ]
  },
  {
   "cell_type": "markdown",
   "metadata": {},
   "source": [
    "~~~C\n",
    "static PyMethodDef hello_module_methods[] = {\n",
    "    {\n",
    "        \"print_hello_world\",\n",
    "        hello_module_print_hello_world,\n",
    "        METH_NOARGS,\n",
    "        \"Print 'hello world' from a method defined in a C extension.\"\n",
    "    },\n",
    "    {NULL, NULL, 0, NULL}\n",
    "};\n",
    "~~~\n",
    "\n",
    "Getting close to the end! We now have the module definition. This will let python know what to call your module, where its methods are located, and where the method definitions are.\n",
    "\n",
    "~~~C\n",
    "static struct PyModuleDef hello_module_definition = {\n",
    "    PyModuleDef_HEAD_INIT,\n",
    "    \"hello_module\",\n",
    "    \"A Python module that prints 'hello world' from C code.\",\n",
    "    -1,\n",
    "    hello_module_methods\n",
    "};\n",
    "~~~\n",
    "\n",
    "Finally, we initialize the module. THis is the function called by ptyhon when importing your extension! We always name this function `PyInit_[module_name_here]`. We'll reference this name again in the setup file of our module (coming up next!).\n",
    "\n",
    "~~~C\n",
    "PyMODINIT_FUNC PyInit_hello_module(void)\n",
    "{\n",
    "    Py_Initialize();\n",
    "\n",
    "    return PyModule_Create(&hello_module_definition);\n",
    "}\n",
    "~~~"
   ]
  },
  {
   "cell_type": "markdown",
   "metadata": {},
   "source": [
    "We should all now understand the C code. To actually use this extension we need to set it up in python as a module. To do this we will use a setup file. If you are following along, pelase copy the code below into a file named `setup.py` in the same directory as `hello_module.c`.\n",
    "\n",
    "~~~Python\n",
    "from distutils.core import setup, Extension\n",
    "\n",
    "hello_world_module = Extension('hello_module',\n",
    "                           sources = ['hello_module.c'])\n",
    "\n",
    "setup(name = 'simple_c_extension',\n",
    "      version = '0.1',\n",
    "      description = 'A useful description',\n",
    "      ext_modules = [hello_world_module],\n",
    "\n",
    "      url='your_website_or_github',\n",
    "      author='your_name',\n",
    "      author_email='your_email')\n",
    "~~~"
   ]
  },
  {
   "cell_type": "markdown",
   "metadata": {},
   "source": [
    "This code is pretty simple. We begin by importing the packages for setup and creating python extensions. \n",
    "\n",
    "~~~Python\n",
    "from distutils.core import setup, Extension\n",
    "~~~\n",
    "\n",
    "We then define an extension with a name (should match naming convetion of `PyMODINIT_FUNC` in your C code) and the C file for the extension.\n",
    "\n",
    "~~~Python\n",
    "hello_world_module = Extension('hello_module',\n",
    "                           sources = ['hello_module.c'])\n",
    "~~~\n",
    "\n",
    "Finally we define the set up operations. Most of this is just providing authorship and contact information for the module. \n",
    "\n",
    "~~~Python\n",
    "setup(name = 'simple_c_extension',\n",
    "      version = '0.1',\n",
    "      description = 'A useful description',\n",
    "      ext_modules = [hello_world_module],\n",
    "\n",
    "      url='your_website_or_github',\n",
    "      author='your_name',\n",
    "      author_email='your_email')\n",
    "~~~"
   ]
  },
  {
   "cell_type": "markdown",
   "metadata": {},
   "source": [
    "We can now pip install the module from the setup file and try running it! Run the code below in the same directory as the `setup.py` file.\n",
    "\n",
    "~~~\n",
    "pip install .\n",
    "~~~\n",
    "\n",
    "You should see the following on the terminal output:\n",
    "\n",
    "~~~\n",
    "Successfully installed simple-c-extension-0.1\n",
    "~~~\n",
    "\n",
    "Let's run our code!"
   ]
  },
  {
   "cell_type": "code",
   "execution_count": 1,
   "metadata": {},
   "outputs": [],
   "source": [
    "import hello_module"
   ]
  },
  {
   "cell_type": "code",
   "execution_count": 2,
   "metadata": {},
   "outputs": [
    {
     "name": "stdout",
     "output_type": "stream",
     "text": [
      "None\n"
     ]
    }
   ],
   "source": [
    "print( hello_module.print_hello_world() )"
   ]
  },
  {
   "cell_type": "markdown",
   "metadata": {},
   "source": [
    "Wait...I don't see hellow world! I only see None. Well, remember, our C code prints \"Hello World\" using `printf()` and returns a python None type. If you run this code in a jupyter notebook you will only see the None type obejct returned. If you run this code in the terminal you should see \"Hello World\" printed out as expected. This highlights one of many little problems that can creep up if you don't think hard about how your C code interacts with your python code. \n",
    "\n",
    "![](screenshot.jpg)"
   ]
  },
  {
   "cell_type": "markdown",
   "metadata": {},
   "source": [
    "### Adding in Arguments\n",
    "\n",
    "Ok, so now you are wondering, \"but what if I wnat to add arguments? and math? and USEFUL stuff?\". Ok, well here we go. Let's make something that takes ina rguments, does some math, and returns soemthing useful. I'll be building off of Dan Foreman-Mackey's example of writing a simplke chi squared formula in C. Basically, our fucntion will evaluate this:\n",
    "\n",
    "$$\n",
    "\\mathcal{X}^2(m,b)=\\sum_{n=1}^N \\frac{[y_n - (mx_n+b)]^2}{\\sigma_n^2}\n",
    "$$\n",
    "\n",
    "We'll add this to our hello_module so that you can see what it looks like to ahve multiple fucntions in our C extension module. "
   ]
  },
  {
   "cell_type": "markdown",
   "metadata": {},
   "source": [
    "Ok, so here is the entire C code. I've simply modified the original `hello_module.c` file we were originally working with.\n",
    "\n",
    "~~~C\n",
    "#include <Python.h>\n",
    "#include <numpy/arrayobject.h>\n",
    "#include <stdio.h>\n",
    "#define NPY_NO_DEPRECATED_API NPY_1_7_API_VERSION\n",
    "\n",
    "double chi2(double m, double b, double *x, double *y, double *yerr, int N) {\n",
    "    int n;\n",
    "    double result = 0.0, diff;\n",
    "\n",
    "    for (n = 0; n < N; n++) {\n",
    "        diff = (y[n] - (m * x[n] + b)) / yerr[n];\n",
    "        result += diff * diff;\n",
    "    }\n",
    "\n",
    "    return result;\n",
    "}\n",
    "\n",
    "static PyObject* hello_module_print_hello_world(PyObject *self, PyObject *args)\n",
    "{\n",
    "    printf(\"Hello World\\n\");\n",
    "    Py_RETURN_NONE;\n",
    "}\n",
    "\n",
    "static PyObject* hello_module_chi2(PyObject *self, PyObject *args)\n",
    "{\n",
    "    double m, b;\n",
    "    PyObject *x_obj, *y_obj, *yerr_obj;\n",
    "\n",
    "    if (!PyArg_ParseTuple(args, \"ddOOO\", &m, &b, &x_obj, &y_obj,\n",
    "                                        &yerr_obj))\n",
    "        return NULL;\n",
    "\n",
    "    PyObject *x_array = PyArray_FROM_OTF(x_obj, NPY_DOUBLE, NPY_IN_ARRAY);\n",
    "    PyObject *y_array = PyArray_FROM_OTF(y_obj, NPY_DOUBLE, NPY_IN_ARRAY);\n",
    "    PyObject *yerr_array = PyArray_FROM_OTF(yerr_obj, NPY_DOUBLE,\n",
    "                                            NPY_IN_ARRAY);\n",
    "\n",
    "    if (x_array == NULL || y_array == NULL || yerr_array == NULL) {\n",
    "        Py_XDECREF(x_array);\n",
    "        Py_XDECREF(y_array);\n",
    "        Py_XDECREF(yerr_array);\n",
    "        return NULL;\n",
    "    }\n",
    "\n",
    "    int N = (int)PyArray_DIM(x_array, 0);\n",
    "\n",
    "    double *x    = (double*)PyArray_DATA(x_array);\n",
    "    double *y    = (double*)PyArray_DATA(y_array);\n",
    "    double *yerr = (double*)PyArray_DATA(yerr_array);\n",
    "\n",
    "    double value = chi2(m, b, x, y, yerr, N);\n",
    "\n",
    "    Py_DECREF(x_array);\n",
    "    Py_DECREF(y_array);\n",
    "    Py_DECREF(yerr_array);\n",
    "\n",
    "    if (value < 0.0) {\n",
    "        PyErr_SetString(PyExc_RuntimeError,\n",
    "                    \"Chi-squared returned an impossible value.\");\n",
    "        return NULL;\n",
    "    }\n",
    "\n",
    "    PyObject *ret = Py_BuildValue(\"d\", value);\n",
    "    return ret;\n",
    "}\n",
    "\n",
    "static PyMethodDef hello_module_methods[] = {\n",
    "    {\n",
    "        \"print_hello_world\",\n",
    "        hello_module_print_hello_world,\n",
    "        METH_NOARGS,\n",
    "        \"Print 'hello world' from a method defined in a C extension.\"\n",
    "    },\n",
    "    {\n",
    "        \"chi2\",\n",
    "        hello_module_chi2,\n",
    "        METH_VARARGS,\n",
    "        \"Calculate the chi-squared of some data given a model.\"\n",
    "    },\n",
    "    {NULL, NULL, 0, NULL}\n",
    "};\n",
    "\n",
    "static struct PyModuleDef hello_module_definition = {\n",
    "    PyModuleDef_HEAD_INIT,\n",
    "    \"hello_module\",\n",
    "    \"A Python module that prints 'hello world' from C code.\",\n",
    "    -1,\n",
    "    hello_module_methods\n",
    "};\n",
    "\n",
    "PyMODINIT_FUNC PyInit_hello_module(void)\n",
    "{\n",
    "    Py_Initialize();\n",
    "    import_array();\n",
    "\n",
    "    return PyModule_Create(&hello_module_definition);\n",
    "}\n",
    "\n",
    "~~~"
   ]
  },
  {
   "cell_type": "markdown",
   "metadata": {},
   "source": [
    "Ok, let's walk through this code and see what's changed (and why!). \n",
    "\n",
    "First, you'll notice that we have more header files. Since we want to interact with numpy arrays, we need to call in the some fucntionality from numpy. We also add a definition to make sure we are using the latest numpy api.\n",
    "\n",
    "~~~C\n",
    "#include <Python.h>\n",
    "#include <numpy/arrayobject.h>\n",
    "#include <stdio.h>\n",
    "#define NPY_NO_DEPRECATED_API NPY_1_7_API_VERSION\n",
    "~~~\n",
    "\n",
    "We then define the method that will actually calcualte the chi squared coefficient. This jsut exectutes the math from before:\n",
    "\n",
    "$$\n",
    "\\mathcal{X}^2(m,b)=\\sum_{n=1}^N \\frac{[y_n - (mx_n+b)]^2}{\\sigma_n^2}\n",
    "$$\n",
    "\n",
    "~~~C\n",
    "double chi2(double m, double b, double *x, double *y, double *yerr, int N) {\n",
    "    int n;\n",
    "    double result = 0.0, diff;\n",
    "\n",
    "    for (n = 0; n < N; n++) {\n",
    "        diff = (y[n] - (m * x[n] + b)) / yerr[n];\n",
    "        result += diff * diff;\n",
    "    }\n",
    "\n",
    "    return result;\n",
    "}\n",
    "~~~"
   ]
  },
  {
   "cell_type": "markdown",
   "metadata": {},
   "source": [
    "Our original print_hello_world module stays the same! \n",
    "\n",
    "~~~C\n",
    "static PyObject* hello_module_print_hello_world(PyObject *self, PyObject *args)\n",
    "{\n",
    "    printf(\"Hello World\\n\");\n",
    "    Py_RETURN_NONE;\n",
    "}\n",
    "~~~\n",
    "\n",
    "We then have the chi2 pymodule that wraps up our chi squared method in C. THis jsut handles reading in the numpy arrays, feeding them to chi2 (which we defiend above), and the . returning a result in soemthing python can understand.\n",
    "\n",
    "~~~C\n",
    "static PyObject* hello_module_chi2(PyObject *self, PyObject *args)\n",
    "{\n",
    "    // instantiate C objects with the object types we need\n",
    "    double m, b;\n",
    "    PyObject *x_obj, *y_obj, *yerr_obj;\n",
    "    \n",
    "    // parse the inputs\n",
    "    // return an error if inputs don't fit expected types\n",
    "    // expected types are \"ddOOO\" which means\n",
    "    // Double, Double, Object, Obeject, Object\n",
    "    if (!PyArg_ParseTuple(args, \"ddOOO\", &m, &b, &x_obj, &y_obj, &yerr_obj))\n",
    "        return NULL;\n",
    "    \n",
    "    // turn the pyobjects into arrays that we can work with\n",
    "    PyObject *x_array = PyArray_FROM_OTF(x_obj, NPY_DOUBLE, NPY_IN_ARRAY);\n",
    "    PyObject *y_array = PyArray_FROM_OTF(y_obj, NPY_DOUBLE, NPY_IN_ARRAY);\n",
    "    PyObject *yerr_array = PyArray_FROM_OTF(yerr_obj, NPY_DOUBLE, NPY_IN_ARRAY);\n",
    "    \n",
    "    // if soemthing went wrong converting the objects to arrays\n",
    "    // we throw an exception here\n",
    "    if (x_array == NULL || y_array == NULL || yerr_array == NULL) {\n",
    "        Py_XDECREF(x_array);\n",
    "        Py_XDECREF(y_array);\n",
    "        Py_XDECREF(yerr_array);\n",
    "        return NULL;\n",
    "    }\n",
    "    \n",
    "    // count the number of data points in x array\n",
    "    int N = (int)PyArray_DIM(x_array, 0);\n",
    "    \n",
    "    // get C-type pointers to data\n",
    "    double *x    = (double*)PyArray_DATA(x_array);\n",
    "    double *y    = (double*)PyArray_DATA(y_array);\n",
    "    double *yerr = (double*)PyArray_DATA(yerr_array);\n",
    "    \n",
    "    // call the C method we defined earlier for\n",
    "    // chi squared\n",
    "    double value = chi2(m, b, x, y, yerr, N);\n",
    "    \n",
    "    // clean up the arrays\n",
    "    Py_DECREF(x_array);\n",
    "    Py_DECREF(y_array);\n",
    "    Py_DECREF(yerr_array);\n",
    "    \n",
    "    if (value < 0.0) {\n",
    "        PyErr_SetString(PyExc_RuntimeError,\n",
    "                    \"Chi-squared returned an impossible value.\");\n",
    "        return NULL;\n",
    "    }\n",
    "    \n",
    "    // create an output that python can handle\n",
    "    PyObject *ret = Py_BuildValue(\"d\", value);\n",
    "    return ret;\n",
    "}\n",
    "\n",
    "~~~"
   ]
  },
  {
   "cell_type": "markdown",
   "metadata": {},
   "source": [
    "We now add the `hello_module_chi2` method to our array of module methods. Our module can now do two things! Whooo!\n",
    "\n",
    "~~~C\n",
    "static PyMethodDef hello_module_methods[] = {\n",
    "    {\n",
    "        \"print_hello_world\",\n",
    "        hello_module_print_hello_world,\n",
    "        METH_NOARGS,\n",
    "        \"Print 'hello world' from a method defined in a C extension.\"\n",
    "    },\n",
    "    {\n",
    "        \"chi2\",\n",
    "        hello_module_chi2,\n",
    "        METH_VARARGS,\n",
    "        \"Calculate the chi-squared of some data given a model.\"\n",
    "    },\n",
    "    {NULL, NULL, 0, NULL}\n",
    "};\n",
    "~~~\n",
    "\n",
    "The module definition doesn't change. The reason is because we neatly compartmentalized the array `hello_module_methods` and the module method `hello_module_definition`. When we want to add methods to our module we just need to add them to our array `hello_module_methods`.\n",
    "\n",
    "~~~C\n",
    "static struct PyModuleDef hello_module_definition = {\n",
    "    PyModuleDef_HEAD_INIT,\n",
    "    \"hello_module\",\n",
    "    \"A Python module that prints 'hello world' from C code.\",\n",
    "    -1,\n",
    "    hello_module_methods\n",
    "};\n",
    "~~~\n",
    "\n",
    "The module initialization is the same **EXCEPT** that we add `import_array()`. This let's python know that we need arrays in our code. If you don't do this the `setup.py` will still compile the C code without errors. You'll still be able to import the module jsut fine. But when you actually call the chi2 fucntion your python kernel will be killed because of `segmentation fault 11`. It's horrible to debug because unless you have carefully read the python C extension documentation, there are no bread crumbs to follow to figure out what caused that error! I, to my chagrin, hit my head against this error for a long time before I actually read through the documentation and found a note discussing exactly this issue.\n",
    "\n",
    "~~~C\n",
    "PyMODINIT_FUNC PyInit_hello_module(void)\n",
    "{\n",
    "    Py_Initialize();\n",
    "    import_array();\n",
    "\n",
    "    return PyModule_Create(&hello_module_definition);\n",
    "}\n",
    "~~~"
   ]
  },
  {
   "cell_type": "markdown",
   "metadata": {},
   "source": [
    "Ok, you'll need to make one last change to the `setup.py` file before building. We add the `include_dirs` argument to let python know where the numpy array header file is. \n",
    "\n",
    "~~~Python\n",
    "from distutils.core import setup, Extension\n",
    "import numpy\n",
    "\n",
    "hello_world_module = Extension('hello_module',\n",
    "                                sources = ['hello_module.c'],\n",
    "                                include_dirs=[numpy.get_include()])\n",
    "\n",
    "setup(name = 'simple_c_extension',\n",
    "      version = '0.1',\n",
    "      description = 'A useful description',\n",
    "      ext_modules = [hello_world_module],\n",
    "\n",
    "      url='your_website_or_github',\n",
    "      author='your_name',\n",
    "      author_email='your_email')\n",
    "\n",
    "~~~\n",
    "\n",
    "Ok, let's run `setup.py` like before and see if our code works!"
   ]
  },
  {
   "cell_type": "code",
   "execution_count": 3,
   "metadata": {},
   "outputs": [],
   "source": [
    "import hello_module"
   ]
  },
  {
   "cell_type": "code",
   "execution_count": 4,
   "metadata": {},
   "outputs": [
    {
     "name": "stdout",
     "output_type": "stream",
     "text": [
      "None\n"
     ]
    }
   ],
   "source": [
    "print( hello_module.print_hello_world() )"
   ]
  },
  {
   "cell_type": "code",
   "execution_count": 5,
   "metadata": {},
   "outputs": [
    {
     "data": {
      "text/plain": [
       "2.8988888888888766"
      ]
     },
     "execution_count": 5,
     "metadata": {},
     "output_type": "execute_result"
    }
   ],
   "source": [
    "hello_module.chi2(2.0, 1.0, [-1.0, 4.2, 30.6],\n",
    "                            [-1.5, 8.0, 63.0],\n",
    "                            [1.0, 1.5, 0.6])"
   ]
  },
  {
   "cell_type": "markdown",
   "metadata": {},
   "source": [
    "Nice! It works. Awesome, so that should be enough to get you started writing C extensions for python!"
   ]
  },
  {
   "cell_type": "markdown",
   "metadata": {},
   "source": [
    "### The Easy Way\n",
    "\n",
    "Ok, maybe all of that was too much work for you and you want an easy way out. Well, you could use Numba. Numba is an awesome package for compiling down python code into C code (where possible). We can compile using Just in Time (JIT) compilation or Ahead of Time (AOT) comilation.\n",
    "\n",
    "JIT will compile when you first use the function that you have added the numba jit decorator too. I've taken this nice example from the numba documentation. We'll start with a standard bubble sort with no bells or whistles."
   ]
  },
  {
   "cell_type": "code",
   "execution_count": 6,
   "metadata": {},
   "outputs": [],
   "source": [
    "import numpy as np\n",
    "import time"
   ]
  },
  {
   "cell_type": "code",
   "execution_count": 7,
   "metadata": {},
   "outputs": [],
   "source": [
    "# example fucntion\n",
    "def bubblesort(X):\n",
    "    N = len(X)\n",
    "    for end in range(N, 1, -1):\n",
    "        for i in range(end - 1):\n",
    "            cur = X[i]\n",
    "            if cur > X[i + 1]:\n",
    "                tmp = X[i]\n",
    "                X[i] = X[i + 1]\n",
    "                X[i + 1] = tmp\n",
    "                \n",
    "# create arrays to be sorted\n",
    "original = np.arange(0.0, 10.0, 0.01, dtype='f4')\n",
    "shuffled = original.copy()\n",
    "np.random.shuffle(shuffled)             "
   ]
  },
  {
   "cell_type": "markdown",
   "metadata": {},
   "source": [
    "Let's time the bubble sort with no optimization. Just plain old python code."
   ]
  },
  {
   "cell_type": "code",
   "execution_count": 8,
   "metadata": {},
   "outputs": [
    {
     "name": "stdout",
     "output_type": "stream",
     "text": [
      "0.19769692420959473 seconds\n"
     ]
    },
    {
     "data": {
      "text/plain": [
       "True"
      ]
     },
     "execution_count": 8,
     "metadata": {},
     "output_type": "execute_result"
    }
   ],
   "source": [
    "to_sort = shuffled.copy()\n",
    "start = time.time()\n",
    "bubblesort(to_sort)\n",
    "end = time.time()\n",
    "print(\"{} seconds\".format(end-start))\n",
    "np.array_equal(to_sort, original)"
   ]
  },
  {
   "cell_type": "markdown",
   "metadata": {},
   "source": [
    "Ok, let's try this once again, but we'll let Numba compile the function into a binary using it's magic powers."
   ]
  },
  {
   "cell_type": "code",
   "execution_count": 9,
   "metadata": {},
   "outputs": [],
   "source": [
    "from numba import jit"
   ]
  },
  {
   "cell_type": "code",
   "execution_count": 10,
   "metadata": {},
   "outputs": [],
   "source": [
    "# numba JIT optimized\n",
    "@jit(target='cpu', nopython=True)\n",
    "def bubblesort_jit(X):\n",
    "    N = len(X)\n",
    "    for end in range(N, 1, -1):\n",
    "        for i in range(end - 1):\n",
    "            cur = X[i]\n",
    "            if cur > X[i + 1]:\n",
    "                tmp = X[i]\n",
    "                X[i] = X[i + 1]\n",
    "                X[i + 1] = tmp"
   ]
  },
  {
   "cell_type": "code",
   "execution_count": 11,
   "metadata": {},
   "outputs": [
    {
     "name": "stdout",
     "output_type": "stream",
     "text": [
      "0.15660810470581055 seconds\n"
     ]
    },
    {
     "data": {
      "text/plain": [
       "True"
      ]
     },
     "execution_count": 11,
     "metadata": {},
     "output_type": "execute_result"
    }
   ],
   "source": [
    "to_sort = shuffled.copy()\n",
    "start = time.time()\n",
    "bubblesort_jit(to_sort)\n",
    "end = time.time()\n",
    "print(\"{} seconds\".format(end-start))\n",
    "np.array_equal(to_sort, original)"
   ]
  },
  {
   "cell_type": "markdown",
   "metadata": {},
   "source": [
    "**WAIT!** That's not that much fater. Who am I kidding? Well, remember that JIT compiles the code during the first run. That means that it compiled AND ran in 0.16 seconds. IF we run the funtion again (now that it is compiled), we'll get a good understanding of the real run time."
   ]
  },
  {
   "cell_type": "code",
   "execution_count": 12,
   "metadata": {},
   "outputs": [
    {
     "name": "stdout",
     "output_type": "stream",
     "text": [
      "0.0014803409576416016 seconds\n"
     ]
    },
    {
     "data": {
      "text/plain": [
       "True"
      ]
     },
     "execution_count": 12,
     "metadata": {},
     "output_type": "execute_result"
    }
   ],
   "source": [
    "to_sort = shuffled.copy()\n",
    "start = time.time()\n",
    "bubblesort_jit(to_sort)\n",
    "end = time.time()\n",
    "print(\"{} seconds\".format(end-start))\n",
    "np.array_equal(to_sort, original)"
   ]
  },
  {
   "cell_type": "markdown",
   "metadata": {},
   "source": [
    "Ok, that looks a lot better. Running this code after optimizing using numba helped a lot! Even better, we can easily incorporate this code with the rest of our python code. No need to have C scripts in our repository or extensions added to our `setup.py` file.\n",
    "\n",
    "But what if we don't want to compile on the first run? What it JIT isn't good enough? Well, Numba supports AOT. \n",
    "\n",
    "Let's define a simple module to do multiplication and squares for us (again, I stole this example from the Numba documentation)."
   ]
  },
  {
   "cell_type": "markdown",
   "metadata": {},
   "source": [
    "First, let's create a python file called `custom_math.py`. Copy and apste the code below into the file.\n",
    "\n",
    "~~~Python\n",
    "from numba.pycc import CC\n",
    "\n",
    "cc = CC('my_module')\n",
    "# Uncomment the following line to print out the compilation steps\n",
    "#cc.verbose = True\n",
    "\n",
    "@cc.export('multf', 'f8(f8, f8)')\n",
    "@cc.export('multi', 'i4(i4, i4)')\n",
    "def mult(a, b):\n",
    "    return a * b\n",
    "\n",
    "@cc.export('square', 'f8(f8)')\n",
    "def square(a):\n",
    "    return a ** 2\n",
    "~~~\n",
    "\n",
    "We'll also define a `setup.py` file to create our new module. \n",
    "\n",
    "~~~Python\n",
    "from distutils.core import setup\n",
    "\n",
    "from custom_math import cc\n",
    "\n",
    "setup(name = 'numba_example',\n",
    "      version = '0.2',\n",
    "      description = 'A useful description',\n",
    "      ext_modules=[cc.distutils_extension()],\n",
    "\n",
    "      url='your_website_or_github',\n",
    "      author='your_name',\n",
    "      author_email='your_email')\n",
    "~~~\n",
    "\n",
    "Run the `setup.py` file as before using `pip install .`. Let's see if our module works as expected."
   ]
  },
  {
   "cell_type": "code",
   "execution_count": 1,
   "metadata": {},
   "outputs": [],
   "source": [
    "import my_module"
   ]
  },
  {
   "cell_type": "code",
   "execution_count": 2,
   "metadata": {},
   "outputs": [
    {
     "data": {
      "text/plain": [
       "12"
      ]
     },
     "execution_count": 2,
     "metadata": {},
     "output_type": "execute_result"
    }
   ],
   "source": [
    "my_module.multi(3, 4)"
   ]
  },
  {
   "cell_type": "code",
   "execution_count": 3,
   "metadata": {},
   "outputs": [
    {
     "data": {
      "text/plain": [
       "1.9993959999999997"
      ]
     },
     "execution_count": 3,
     "metadata": {},
     "output_type": "execute_result"
    }
   ],
   "source": [
    "my_module.square(1.414)"
   ]
  },
  {
   "cell_type": "markdown",
   "metadata": {},
   "source": [
    "Cool! Ok, well, that was amazingly easy, right?!"
   ]
  },
  {
   "cell_type": "markdown",
   "metadata": {},
   "source": [
    "# Parting Words\n",
    "\n",
    "Well now you know exactly how to create C extensions for python. When needed, you can have your code run at insanely fast speeds. A word of caution, however. Just like multiprocessing, using C extensions should only be used when needed. It adds compelxity that can be ahrd to debug or create unintended errors/complications in the end user's environment. Additionally, some fucntions are already optimized to an incredible amount in python already (like dot products in numpy and scipy). You might not be able to improve on what has already been built. "
   ]
  },
  {
   "cell_type": "code",
   "execution_count": null,
   "metadata": {},
   "outputs": [],
   "source": []
  }
 ],
 "metadata": {
  "kernelspec": {
   "display_name": "squidward_env",
   "language": "python",
   "name": "squidward_env"
  },
  "language_info": {
   "codemirror_mode": {
    "name": "ipython",
    "version": 3
   },
   "file_extension": ".py",
   "mimetype": "text/x-python",
   "name": "python",
   "nbconvert_exporter": "python",
   "pygments_lexer": "ipython3",
   "version": "3.6.7"
  }
 },
 "nbformat": 4,
 "nbformat_minor": 2
}
